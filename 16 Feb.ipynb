{
 "cells": [
  {
   "attachments": {},
   "cell_type": "markdown",
   "metadata": {},
   "source": [
    "OOPS "
   ]
  },
  {
   "cell_type": "code",
   "execution_count": 8,
   "metadata": {},
   "outputs": [],
   "source": [
    "class Circle():\n",
    "    pi = 3.14\n",
    "    def __init__(self,rad=1):\n",
    "        self.rad = rad\n",
    "        self.area = (rad**2)*self.pi\n",
    "    \n",
    "    def get_circumference(self):\n",
    "        return 2*self.pi*self.rad"
   ]
  },
  {
   "cell_type": "code",
   "execution_count": 9,
   "metadata": {},
   "outputs": [
    {
     "data": {
      "text/plain": [
       "31.400000000000002"
      ]
     },
     "execution_count": 9,
     "metadata": {},
     "output_type": "execute_result"
    }
   ],
   "source": [
    "my_circle = Circle(5)\n",
    "my_circle.get_circumference()"
   ]
  },
  {
   "attachments": {},
   "cell_type": "markdown",
   "metadata": {},
   "source": [
    "INHERITANCE "
   ]
  },
  {
   "cell_type": "code",
   "execution_count": 10,
   "metadata": {},
   "outputs": [],
   "source": [
    "class Mammal():\n",
    "    def __init__(self):\n",
    "        print(\"Mammal Created\")\n",
    "\n",
    "    def eat(self):\n",
    "        print(\"I CAN EAT\")\n",
    "    \n",
    "    def walk(self):\n",
    "        print(\"I CAN WALK\")"
   ]
  },
  {
   "cell_type": "code",
   "execution_count": 11,
   "metadata": {},
   "outputs": [],
   "source": [
    "class Humans(Mammal):\n",
    "    def __init__(self):\n",
    "        Mammal.__init__(self)\n",
    "        print(\"HUMANS CREATED\")\n",
    "\n",
    "    def talk(self):\n",
    "        print(\"I CAN SPEAK\")"
   ]
  },
  {
   "cell_type": "code",
   "execution_count": 12,
   "metadata": {},
   "outputs": [
    {
     "name": "stdout",
     "output_type": "stream",
     "text": [
      "Mammal Created\n",
      "HUMANS CREATED\n",
      "I CAN EAT\n"
     ]
    }
   ],
   "source": [
    "my_human = Humans()\n",
    "my_human.eat() # Accessing the method defined in Mammal Class"
   ]
  },
  {
   "cell_type": "code",
   "execution_count": 14,
   "metadata": {},
   "outputs": [
    {
     "name": "stdout",
     "output_type": "stream",
     "text": [
      "0\n",
      "1\n",
      "2\n",
      "3\n",
      "4\n"
     ]
    }
   ],
   "source": [
    "def my_generator(n):\n",
    "    for i in range(n):\n",
    "        yield i\n",
    "\n",
    "for i in my_generator(5):\n",
    "    print(i)"
   ]
  },
  {
   "cell_type": "code",
   "execution_count": null,
   "metadata": {},
   "outputs": [],
   "source": []
  }
 ],
 "metadata": {
  "kernelspec": {
   "display_name": "Python 3",
   "language": "python",
   "name": "python3"
  },
  "language_info": {
   "codemirror_mode": {
    "name": "ipython",
    "version": 3
   },
   "file_extension": ".py",
   "mimetype": "text/x-python",
   "name": "python",
   "nbconvert_exporter": "python",
   "pygments_lexer": "ipython3",
   "version": "3.11.2"
  },
  "orig_nbformat": 4,
  "vscode": {
   "interpreter": {
    "hash": "448b59611b2d3e564fcced977a82c65539964eb87a1a72ff26f82aaf754a7084"
   }
  }
 },
 "nbformat": 4,
 "nbformat_minor": 2
}
